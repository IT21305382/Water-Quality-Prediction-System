{
  "nbformat": 4,
  "nbformat_minor": 0,
  "metadata": {
    "colab": {
      "provenance": []
    },
    "kernelspec": {
      "name": "python3",
      "display_name": "Python 3"
    },
    "language_info": {
      "name": "python"
    }
  },
  "cells": [
    {
      "cell_type": "code",
      "execution_count": 1,
      "metadata": {
        "id": "qdPQGtZ19e_3",
        "colab": {
          "base_uri": "https://localhost:8080/"
        },
        "outputId": "01a809dc-8881-41ca-fb3a-d68d1bd7277e"
      },
      "outputs": [
        {
          "output_type": "stream",
          "name": "stdout",
          "text": [
            "Mounted at /content/drive\n"
          ]
        }
      ],
      "source": [
        "from google.colab import drive\n",
        "drive.mount('/content/drive')"
      ]
    },
    {
      "cell_type": "code",
      "source": [
        "import numpy as np\n",
        "import pandas as pd"
      ],
      "metadata": {
        "id": "lU4UgcqGcQXw"
      },
      "execution_count": 2,
      "outputs": []
    },
    {
      "cell_type": "code",
      "source": [
        "data=pd.read_csv(\"/content/drive/MyDrive/fdm-project/waterQuality1.csv\")\n",
        "\n",
        "#removes rows that contain missing values\n",
        "data.replace('#NUM!', pd.NA, inplace=True)\n",
        "data.dropna(inplace=True)\n",
        "data.reset_index(drop=True, inplace=True)\n",
        "\n",
        "print(data)"
      ],
      "metadata": {
        "colab": {
          "base_uri": "https://localhost:8080/"
        },
        "id": "JIZRIZUdctsS",
        "outputId": "8da66e3d-7e3f-488e-fb80-38521a5c9361"
      },
      "execution_count": 3,
      "outputs": [
        {
          "output_type": "stream",
          "name": "stdout",
          "text": [
            "      aluminium ammonia  arsenic  barium  cadmium  chloramine  chromium  \\\n",
            "0          1.65    9.08     0.04    2.85    0.007        0.35      0.83   \n",
            "1          2.32   21.16     0.01    3.31    0.002        5.28      0.68   \n",
            "2          1.01   14.02     0.04    0.58    0.008        4.24      0.53   \n",
            "3          1.36   11.33     0.04    2.96    0.001        7.23      0.03   \n",
            "4          0.92   24.33     0.03    0.20    0.006        2.67      0.69   \n",
            "...         ...     ...      ...     ...      ...         ...       ...   \n",
            "7991       0.05    7.78     0.00    1.95    0.040        0.10      0.03   \n",
            "7992       0.05   24.22     0.02    0.59    0.010        0.45      0.02   \n",
            "7993       0.09    6.85     0.00    0.61    0.030        0.05      0.05   \n",
            "7994       0.01      10     0.01    2.00    0.000        2.00      0.00   \n",
            "7995       0.04    6.85     0.01    0.70    0.030        0.05      0.01   \n",
            "\n",
            "      copper  flouride  bacteria  ...   lead  nitrates  nitrites  mercury  \\\n",
            "0       0.17      0.05      0.20  ...  0.054     16.08      1.13    0.007   \n",
            "1       0.66      0.90      0.65  ...  0.100      2.01      1.93    0.003   \n",
            "2       0.02      0.99      0.05  ...  0.078     14.16      1.11    0.006   \n",
            "3       1.66      1.08      0.71  ...  0.016      1.41      1.29    0.004   \n",
            "4       0.57      0.61      0.13  ...  0.117      6.74      1.11    0.003   \n",
            "...      ...       ...       ...  ...    ...       ...       ...      ...   \n",
            "7991    0.03      1.37      0.00  ...  0.197     14.29      1.00    0.005   \n",
            "7992    0.02      1.48      0.00  ...  0.031     10.27      1.00    0.001   \n",
            "7993    0.02      0.91      0.00  ...  0.182     15.92      1.00    0.000   \n",
            "7994    0.09      0.00      0.00  ...  0.000      0.00      0.00    0.000   \n",
            "7995    0.03      1.00      0.00  ...  0.182     15.92      1.00    0.000   \n",
            "\n",
            "      perchlorate  radium  selenium  silver  uranium  is_safe  \n",
            "0           37.75    6.78      0.08    0.34     0.02        1  \n",
            "1           32.26    3.21      0.08    0.27     0.05        1  \n",
            "2           50.28    7.07      0.07    0.44     0.01        0  \n",
            "3            9.12    1.72      0.02    0.45     0.05        1  \n",
            "4           16.90    2.41      0.02    0.06     0.02        1  \n",
            "...           ...     ...       ...     ...      ...      ...  \n",
            "7991         3.57    2.13      0.09    0.06     0.03        1  \n",
            "7992         1.48    1.11      0.09    0.10     0.08        1  \n",
            "7993         1.35    4.84      0.00    0.04     0.05        1  \n",
            "7994         0.00    0.00      0.00    0.00     0.00        1  \n",
            "7995         1.35    4.84      0.00    0.04     0.05        1  \n",
            "\n",
            "[7996 rows x 21 columns]\n"
          ]
        }
      ]
    },
    {
      "cell_type": "code",
      "source": [
        "# shape of the dataset(number of rows and columns)\n",
        "data.shape"
      ],
      "metadata": {
        "colab": {
          "base_uri": "https://localhost:8080/"
        },
        "id": "LTR2-W97c29U",
        "outputId": "03118577-6f51-49fb-9602-652367bad204"
      },
      "execution_count": 4,
      "outputs": [
        {
          "output_type": "execute_result",
          "data": {
            "text/plain": [
              "(7996, 21)"
            ]
          },
          "metadata": {},
          "execution_count": 4
        }
      ]
    },
    {
      "cell_type": "code",
      "source": [
        "# dataset details\n",
        "data.info()"
      ],
      "metadata": {
        "colab": {
          "base_uri": "https://localhost:8080/"
        },
        "id": "yYUVW-vVc5Lt",
        "outputId": "2dc24181-d846-4f54-bccd-df26b79ac1ee"
      },
      "execution_count": 5,
      "outputs": [
        {
          "output_type": "stream",
          "name": "stdout",
          "text": [
            "<class 'pandas.core.frame.DataFrame'>\n",
            "RangeIndex: 7996 entries, 0 to 7995\n",
            "Data columns (total 21 columns):\n",
            " #   Column       Non-Null Count  Dtype  \n",
            "---  ------       --------------  -----  \n",
            " 0   aluminium    7996 non-null   float64\n",
            " 1   ammonia      7996 non-null   object \n",
            " 2   arsenic      7996 non-null   float64\n",
            " 3   barium       7996 non-null   float64\n",
            " 4   cadmium      7996 non-null   float64\n",
            " 5   chloramine   7996 non-null   float64\n",
            " 6   chromium     7996 non-null   float64\n",
            " 7   copper       7996 non-null   float64\n",
            " 8   flouride     7996 non-null   float64\n",
            " 9   bacteria     7996 non-null   float64\n",
            " 10  viruses      7996 non-null   float64\n",
            " 11  lead         7996 non-null   float64\n",
            " 12  nitrates     7996 non-null   float64\n",
            " 13  nitrites     7996 non-null   float64\n",
            " 14  mercury      7996 non-null   float64\n",
            " 15  perchlorate  7996 non-null   float64\n",
            " 16  radium       7996 non-null   float64\n",
            " 17  selenium     7996 non-null   float64\n",
            " 18  silver       7996 non-null   float64\n",
            " 19  uranium      7996 non-null   float64\n",
            " 20  is_safe      7996 non-null   object \n",
            "dtypes: float64(19), object(2)\n",
            "memory usage: 1.3+ MB\n"
          ]
        }
      ]
    },
    {
      "cell_type": "code",
      "source": [
        "y_val_counts=data['is_safe'].value_counts()\n",
        "print(y_val_counts)\n",
        "\n",
        "import matplotlib.pyplot as plt\n",
        "\n",
        "plt.bar(y_val_counts.index, y_val_counts.values, color='skyblue')\n",
        "plt.xlabel('Class Labels')\n",
        "plt.ylabel('Class Counts')\n",
        "plt.show()\n"
      ],
      "metadata": {
        "colab": {
          "base_uri": "https://localhost:8080/",
          "height": 501
        },
        "id": "gLaNknEQdJe6",
        "outputId": "de384463-36cd-4248-addd-7eb048ff5ee0"
      },
      "execution_count": 6,
      "outputs": [
        {
          "output_type": "stream",
          "name": "stdout",
          "text": [
            "0    7084\n",
            "1     912\n",
            "Name: is_safe, dtype: int64\n"
          ]
        },
        {
          "output_type": "display_data",
          "data": {
            "text/plain": [
              "<Figure size 640x480 with 1 Axes>"
            ],
            "image/png": "[encoded data removed]"
          },
          "metadata": {}
        }
      ]
    },
    {
      "cell_type": "code",
      "source": [
        "X=data.drop(columns=['is_safe'])\n",
        "y=data['is_safe']\n",
        "\n",
        "from imblearn.over_sampling import SMOTE\n",
        "\n",
        "sm=SMOTE(sampling_strategy=0.5)\n",
        "\n",
        "X,y=sm.fit_resample(X,y)"
      ],
      "metadata": {
        "id": "OoNGKx5GdL22"
      },
      "execution_count": 7,
      "outputs": []
    },
    {
      "cell_type": "code",
      "source": [
        "from imblearn.under_sampling import CondensedNearestNeighbour\n",
        "\n",
        "cnn = CondensedNearestNeighbour(sampling_strategy='auto', random_state=42, n_neighbors=1, n_jobs=-1)\n",
        "X_resampled, y_resampled = cnn.fit_resample(X, y)\n"
      ],
      "metadata": {
        "id": "st7TGImfdYcc"
      },
      "execution_count": 8,
      "outputs": []
    },
    {
      "cell_type": "code",
      "source": [
        "y_new_count=y_resampled.value_counts()\n",
        "print(y_new_count)\n",
        "\n",
        "plt.bar(y_new_count.index, y_new_count.values )\n",
        "plt.xlabel('Class Labels')\n",
        "plt.ylabel('Class New Counts')\n",
        "plt.show()"
      ],
      "metadata": {
        "colab": {
          "base_uri": "https://localhost:8080/",
          "height": 501
        },
        "id": "qHgsg1r_dazK",
        "outputId": "8d846509-b54f-4bab-a650-0a36809d3a9b"
      },
      "execution_count": 9,
      "outputs": [
        {
          "output_type": "stream",
          "name": "stdout",
          "text": [
            "1    3542\n",
            "0    1747\n",
            "Name: is_safe, dtype: int64\n"
          ]
        },
        {
          "output_type": "display_data",
          "data": {
            "text/plain": [
              "<Figure size 640x480 with 1 Axes>"
            ],
            "image/png": "[encoded data removed]"
          },
          "metadata": {}
        }
      ]
    },
    {
      "cell_type": "code",
      "source": [
        "import numpy as np\n",
        "x=X_resampled.to_numpy()\n",
        "y=y_resampled.to_numpy()"
      ],
      "metadata": {
        "id": "tLmA3t7Ec6v9"
      },
      "execution_count": 10,
      "outputs": []
    },
    {
      "cell_type": "code",
      "source": [
        "# divide dataset into training and testing set\n",
        "\n",
        "from sklearn.model_selection import train_test_split\n",
        "\n",
        "x_train, x_test, y_train, y_test=train_test_split(x, y, test_size=0.25, random_state=42)\n",
        "\n",
        "print(x_train.shape)\n",
        "print(y_train.shape)"
      ],
      "metadata": {
        "colab": {
          "base_uri": "https://localhost:8080/"
        },
        "id": "P4mOBXb3gZIB",
        "outputId": "20d23136-356e-43c6-cc57-18667323e3e1"
      },
      "execution_count": 11,
      "outputs": [
        {
          "output_type": "stream",
          "name": "stdout",
          "text": [
            "(3966, 20)\n",
            "(3966,)\n"
          ]
        }
      ]
    },
    {
      "cell_type": "code",
      "source": [
        "from sklearn.tree import DecisionTreeClassifier\n",
        "from sklearn.model_selection import GridSearchCV\n",
        "\n",
        "# Create a Decision Tree classifier\n",
        "model = DecisionTreeClassifier()\n",
        "\n",
        "#Define the hyperparameters to search\n",
        "param_grid = {\n",
        "    'criterion': ['gini', 'entropy'],\n",
        "    'max_depth': [None,10,20,30,40,50],\n",
        "    'min_samples_split': [2, 5, 10],\n",
        "    'min_samples_leaf': [1, 2, 4],\n",
        "    'ccp_alpha': [0.01, 0.1, 1.0]\n",
        "}\n",
        "\n",
        "# Create a GridSearchCV object to find the best hyperparameters\n",
        "grid_search = GridSearchCV(model, param_grid =param_grid , cv=5, scoring='accuracy')\n",
        "\n",
        "# Fit the model to the training data with hyperparameter tuning\n",
        "grid_search.fit(x_train, y_train)\n",
        "\n",
        "# Get the best hyperparameters found by GridSearchCV\n",
        "best_params = grid_search.best_params_\n",
        "print(\"Best Hyperparameters:\", best_params)\n",
        "\n",
        "# Get the best model with the tuned hyperparameters\n",
        "best_model = grid_search.best_estimator_\n",
        "\n",
        "# Evaluate the best model on the test data\n",
        "accuracy = best_model.score(x_test, y_test)\n",
        "print(\"Testing Accuracy:\", accuracy)\n",
        "\n",
        "\n",
        "p1 = best_model.predict(x_test)\n",
        "print(p1)\n",
        "from sklearn.metrics import accuracy_score\n",
        "a1 = accuracy_score(y_test, p1)"
      ],
      "metadata": {
        "colab": {
          "base_uri": "https://localhost:8080/"
        },
        "id": "xOZHi8dHc9ov",
        "outputId": "3fa30dad-6b69-4fa1-e79e-f39d8cce6e6b"
      },
      "execution_count": 12,
      "outputs": [
        {
          "output_type": "stream",
          "name": "stdout",
          "text": [
            "Best Hyperparameters: {'ccp_alpha': 0.01, 'criterion': 'entropy', 'max_depth': None, 'min_samples_leaf': 1, 'min_samples_split': 2}\n",
            "Testing Accuracy: 0.8828420256991686\n",
            "['0' '1' '1' ... '1' '0' '0']\n"
          ]
        }
      ]
    },
    {
      "cell_type": "code",
      "source": [
        "p2 = best_model.predict(x_train)\n",
        "print(p2)\n",
        "from sklearn.metrics import accuracy_score\n",
        "a2 = accuracy_score(y_train, p2)"
      ],
      "metadata": {
        "colab": {
          "base_uri": "https://localhost:8080/"
        },
        "id": "yJFlp84be9wE",
        "outputId": "ff92705e-55e9-447f-adca-02ac3b77a562"
      },
      "execution_count": 13,
      "outputs": [
        {
          "output_type": "stream",
          "name": "stdout",
          "text": [
            "['1' '1' '0' ... '1' '1' '0']\n"
          ]
        }
      ]
    },
    {
      "cell_type": "code",
      "source": [
        "# Convert accuracy to a percentage\n",
        "accuracy_percentage1 = a1 * 100\n",
        "accuracy_percentage2 = a2 * 100\n",
        "\n",
        "print(\"Training Accuracy2: {:.2f}%\".format(accuracy_percentage2))\n",
        "print(\"Testing Accuracy1: {:.2f}%\".format(accuracy_percentage1))"
      ],
      "metadata": {
        "colab": {
          "base_uri": "https://localhost:8080/"
        },
        "id": "ZTmFAT2lfBsY",
        "outputId": "4a481bcc-4edb-4a2c-b5fd-d09bc69f17a5"
      },
      "execution_count": 14,
      "outputs": [
        {
          "output_type": "stream",
          "name": "stdout",
          "text": [
            "Training Accuracy2: 89.36%\n",
            "Testing Accuracy1: 88.28%\n"
          ]
        }
      ]
    },
    {
      "cell_type": "code",
      "source": [
        "from sklearn.metrics import accuracy_score, classification_report, confusion_matrix\n",
        "\n",
        "y_train_pred=best_model.predict(x_train)\n",
        "\n",
        "training_accuracy=accuracy_score(y_train, y_train_pred)\n",
        "print(f\"training accuracy: {training_accuracy*100}\")\n",
        "\n",
        "#print(f\"cross validation accruracies: {grid_search.cv_results_['mean_test_score']}\")\n",
        "\n",
        "print(f\"nest parameters:{best_params}\")\n",
        "\n",
        "y_pred=best_model.predict(x_test)\n",
        "accuracy=accuracy_score(y_test,y_pred)\n",
        "\n",
        "print(f\"Model accuracy score:{accuracy*100}\")\n",
        "\n",
        "print(f\"{classification_report(y_test, y_pred)}\")\n",
        "\n"
      ],
      "metadata": {
        "colab": {
          "base_uri": "https://localhost:8080/"
        },
        "id": "m6x3O8plg6bo",
        "outputId": "35038b96-4bb7-48e2-9473-910c3dace7c2"
      },
      "execution_count": 15,
      "outputs": [
        {
          "output_type": "stream",
          "name": "stdout",
          "text": [
            "training accuracy: 89.35955622793746\n",
            "nest parameters:{'ccp_alpha': 0.01, 'criterion': 'entropy', 'max_depth': None, 'min_samples_leaf': 1, 'min_samples_split': 2}\n",
            "Model accuracy score:88.28420256991686\n",
            "              precision    recall  f1-score   support\n",
            "\n",
            "           0       0.87      0.79      0.83       471\n",
            "           1       0.89      0.93      0.91       852\n",
            "\n",
            "    accuracy                           0.88      1323\n",
            "   macro avg       0.88      0.86      0.87      1323\n",
            "weighted avg       0.88      0.88      0.88      1323\n",
            "\n"
          ]
        }
      ]
    },
    {
      "cell_type": "code",
      "source": [
        "conf_mtrx=confusion_matrix(y_test, y_pred)\n",
        "\n",
        "from sklearn.metrics import ConfusionMatrixDisplay\n",
        "\n",
        "conf_mtrx_display=ConfusionMatrixDisplay(confusion_matrix = conf_mtrx, display_labels = [False, True])\n",
        "conf_mtrx_display.plot()\n",
        "plt.show()"
      ],
      "metadata": {
        "colab": {
          "base_uri": "https://localhost:8080/",
          "height": 449
        },
        "id": "Cvc_kTU6hMcE",
        "outputId": "3569fc22-13ab-4825-d1f5-6a919b57fb10"
      },
      "execution_count": 16,
      "outputs": [
        {
          "output_type": "display_data",
          "data": {
            "text/plain": [
              "<Figure size 640x480 with 2 Axes>"
            ],
            "image/png": "[encoded data removed]"
          },
          "metadata": {}
        }
      ]
    },
    {
      "cell_type": "code",
      "source": [
        "new_pred=[0.1, 0.5, 0.7, 0.8, 0.25, 0.75, 0.35, 8.5, 12.5, 11.5, 1.2, 1.7, 0.13, 0.14, 0.15, 0.16, 0.17, 0.18, 0.19, 0.2 ]\n",
        "new_pred=np.array(new_pred)\n",
        "\n",
        "print(best_model.predict(new_pred.reshape(1, -1)))"
      ],
      "metadata": {
        "colab": {
          "base_uri": "https://localhost:8080/"
        },
        "id": "zVfmKwNMhqaA",
        "outputId": "189f8b24-085a-43c6-f1f4-d3bd4b9e4aab"
      },
      "execution_count": 17,
      "outputs": [
        {
          "output_type": "stream",
          "name": "stdout",
          "text": [
            "['0']\n"
          ]
        }
      ]
    },
    {
      "cell_type": "code",
      "source": [
        "# Assuming you've already trained your Decision Tree model and named it 'model'\n",
        "input_data = [[1.6, 9.0, 0.01, 2.0, 0.006, 0.3, 0.8, 0.1, 0.05, 0.3, 0.1, 0.1, 10.0, 1.0, 0.005, 30.0, 5.0, 0.1, 0.3, 0.01]]\n",
        "\n",
        "# Get the predicted output\n",
        "predicted_output = best_model.predict(input_data)\n",
        "\n",
        "# Print the predicted output\n",
        "print(predicted_output)\n"
      ],
      "metadata": {
        "colab": {
          "base_uri": "https://localhost:8080/"
        },
        "id": "FSyeZRkghwcN",
        "outputId": "5100d943-9a8b-4e8e-9efc-6219970162a1"
      },
      "execution_count": 18,
      "outputs": [
        {
          "output_type": "stream",
          "name": "stdout",
          "text": [
            "['1']\n"
          ]
        }
      ]
    },
    {
      "cell_type": "code",
      "source": [
        "pip install joblib"
      ],
      "metadata": {
        "id": "ISbW8nrKfF6n",
        "colab": {
          "base_uri": "https://localhost:8080/"
        },
        "outputId": "64ea8fdd-6da4-494a-8190-f57fb9f57a87"
      },
      "execution_count": 19,
      "outputs": [
        {
          "output_type": "stream",
          "name": "stdout",
          "text": [
            "Requirement already satisfied: joblib in /usr/local/lib/python3.10/dist-packages (1.3.2)\n"
          ]
        }
      ]
    },
    {
      "cell_type": "code",
      "source": [
        "import joblib\n",
        "\n",
        "# Save the model to a .pkl file\n",
        "joblib.dump(best_model, '/content/drive/MyDrive/fdm-project/DTmodel.pkl')\n"
      ],
      "metadata": {
        "id": "AInWtJOQfG9j",
        "colab": {
          "base_uri": "https://localhost:8080/"
        },
        "outputId": "9271bd1a-714a-471d-90fa-f6a97f5f3423"
      },
      "execution_count": 20,
      "outputs": [
        {
          "output_type": "execute_result",
          "data": {
            "text/plain": [
              "['/content/drive/MyDrive/fdm-project/DTmodel.pkl']"
            ]
          },
          "metadata": {},
          "execution_count": 20
        }
      ]
    },
    {
      "cell_type": "code",
      "source": [],
      "metadata": {
        "id": "CsNlJylF-5eM"
      },
      "execution_count": null,
      "outputs": []
    }
  ]
}